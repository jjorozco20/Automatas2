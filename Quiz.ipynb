{
 "cells": [
  {
   "cell_type": "markdown",
   "metadata": {},
   "source": [
    "# Quiz 1: Some questions about traduction processes"
   ]
  },
  {
   "cell_type": "markdown",
   "metadata": {},
   "source": [
    "# What is a compiler?"
   ]
  },
  {
   "cell_type": "markdown",
   "metadata": {},
   "source": [
    "A compiler is a computer program that translates computer code written in one programming language (the source language) into another programming language (the target language). The name compiler is primarily used for programs that translate source code from a high-level programming language to a lower level language (e.g., assembly language, object code, or machine code) to create an executable program. [Wikipedia, 2019]"
   ]
  },
  {
   "cell_type": "markdown",
   "metadata": {},
   "source": [
    "# Three reasons about why compiler are necesary:"
   ]
  },
  {
   "cell_type": "markdown",
   "metadata": {},
   "source": [
    "* Translates the high-level/medium-level code to low-level code, this is necessary for get comunicated with the processor.\n",
    "* Helps you to find errors, all this because the compiler does a lexical analysis.\n",
    "* Code's optimization"
   ]
  },
  {
   "cell_type": "markdown",
   "metadata": {},
   "source": [
    "# Tree diferences between compiler and interpreter"
   ]
  },
  {
   "cell_type": "markdown",
   "metadata": {},
   "source": [
    "* The compiler transforms the high-level code into a low-level code in a machine's language for comunicate the instructions to the processor. The interpreter doesn't do that. He is the source for a compiler.\n",
    "* The interpreter execute the actions directly in the program, while the compiler translate the source code into a machine code.\n",
    "* Compiler takes an entire program at a time, interpreter takes only one line of code or instruction at a time."
   ]
  },
  {
   "cell_type": "markdown",
   "metadata": {},
   "source": [
    "# Is Python a compiler or an interpreter?"
   ]
  },
  {
   "cell_type": "code",
   "execution_count": 5,
   "metadata": {},
   "outputs": [
    {
     "name": "stdout",
     "output_type": "stream",
     "text": [
      "My name is Python\n",
      "I'm into my best version, 3.7\n",
      "I'm not a compiler.\n",
      "Look, I'm an interpreter.\n",
      "It's tough, I know :c\n"
     ]
    }
   ],
   "source": [
    "#Python\n",
    "print(\"My name is Python\")\n",
    "print(\"I'm into my best version, 3.7\")\n",
    "print(\"I'm not a compiler.\")\n",
    "print(\"Look, I'm an interpreter.\")\n",
    "print(\"It's tough, I know :c\" )"
   ]
  },
  {
   "cell_type": "markdown",
   "metadata": {},
   "source": [
    "# Compiler's phases"
   ]
  },
  {
   "cell_type": "markdown",
   "metadata": {},
   "source": [
    "* Lexical analysis\n",
    "* Sintactical analysis\n",
    "* Semantical analysis\n",
    "* Intermediate code's generation\n",
    "* Optimization\n",
    "* Code generation\n",
    "* Target language"
   ]
  },
  {
   "cell_type": "code",
   "execution_count": null,
   "metadata": {},
   "outputs": [],
   "source": []
  }
 ],
 "metadata": {
  "kernelspec": {
   "display_name": "Python 3",
   "language": "python",
   "name": "python3"
  },
  "language_info": {
   "codemirror_mode": {
    "name": "ipython",
    "version": 3
   },
   "file_extension": ".py",
   "mimetype": "text/x-python",
   "name": "python",
   "nbconvert_exporter": "python",
   "pygments_lexer": "ipython3",
   "version": "3.7.3"
  }
 },
 "nbformat": 4,
 "nbformat_minor": 2
}
